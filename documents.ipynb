{
 "cells": [
  {
   "cell_type": "markdown",
   "metadata": {},
   "source": [
    "## Part 1: Read a file"
   ]
  },
  {
   "cell_type": "code",
   "execution_count": 9,
   "metadata": {},
   "outputs": [
    {
     "data": {
      "text/plain": [
       "[Document(page_content='Summary of Urban Planning and Smart Cities\\nUrban planning has evolved significantly with the advancement of digital technologies, giving rise to\\nthe concept \\nof the Smart City. This approach aims to improve urban environments by integrating technologies\\nthat enhance \\nsustainability, efficiency, and the overall quality of life for residents. Smart cities use data analytics, \\nInternet of Things (IoT) devices, and artificial intelligence to tackle common urban issues such as\\ntraffic congestion, \\nwaste management, energy distribution, and public safety.\\nKey Components of Smart City Implementation:\\n1. Infrastructure and Technology: Developing a robust infrastructure that supports smart devices and\\nsensors is \\nessential. This includes building efficient transport systems, energy grids, and digital networks that\\ncollect \\nand process real-time data.\\n2. Data Management: Smart cities rely heavily on data collection and analysis. Information gathered\\nfrom various \\nsources is analyzed to provide insights that enable city officials to make informed decisions and\\ndevelop \\ndata-driven policies.\\n3. Citizen Engagement: Smart City projects prioritize citizen engagement by using digital platforms\\nto communicate ', metadata={'source': '/Users/i749910/Downloads/Detailed_Urban_Planning_and_Smart_Cities_Summary_Corrected.pdf', 'page': 0}),\n",
       " Document(page_content=\"with residents and gather their feedback. This fosters a collaborative approach to addressing urban\\nchallenges and \\nensuring that solutions meet the public's needs.\\n4. Sustainability and Environment: Environmental monitoring through IoT sensors helps cities\\nmanage resources more \\neffectively, reducing pollution, optimizing waste collection, and improving air quality. Renewable\\nenergy integration \\nis another focus area in smart city development.\\n5. Public-Private Partnerships: Collaboration between the public and private sectors is essential in\\nSmart City \\nprojects. Private companies often provide the technology and expertise, while public authorities\\nmanage the regulatory \\nframework and ensure that initiatives align with urban development goals.\\nThe transition toward Smart Cities represents a comprehensive approach to urbanization, combining\\ntechnical \\ninnovation with a commitment to sustainable growth. By embracing digital solutions, cities can\\ncreate environments \\nthat adapt to the needs of their residents, reduce environmental impact, and foster economic\\ngrowth. However, \\nsuccessful implementation also depends on addressing privacy concerns, ensuring data security,\\nand maintaining \\nequitable access to technology for all residents.\", metadata={'source': '/Users/i749910/Downloads/Detailed_Urban_Planning_and_Smart_Cities_Summary_Corrected.pdf', 'page': 1})]"
      ]
     },
     "execution_count": 9,
     "metadata": {},
     "output_type": "execute_result"
    }
   ],
   "source": [
    "from langchain_community.document_loaders.pdf import PyPDFLoader\n",
    "\n",
    "file_path = \"/Users/i749910/Downloads/Detailed_Urban_Planning_and_Smart_Cities_Summary_Corrected.pdf\"\n",
    "loader = PyPDFLoader(file_path)\n",
    "docs = loader.load()\n",
    "\n",
    "docs"
   ]
  },
  {
   "cell_type": "markdown",
   "metadata": {},
   "source": [
    "## Part 2: Summarize the document"
   ]
  },
  {
   "cell_type": "code",
   "execution_count": 10,
   "metadata": {},
   "outputs": [],
   "source": [
    "# Prompt\n",
    "from langchain_core.prompts import PromptTemplate\n",
    "\n",
    "prompt_template = \"\"\"Write a long summary of the following document. \n",
    "Only include information that is part of the document. \n",
    "Do not include your own opinion or analysis.\n",
    "\n",
    "Document:\n",
    "\"{document}\"\n",
    "Summary:\"\"\"\n",
    "prompt = PromptTemplate.from_template(prompt_template)"
   ]
  },
  {
   "cell_type": "code",
   "execution_count": 11,
   "metadata": {},
   "outputs": [],
   "source": [
    "# Define LLM Chain\n",
    "\n",
    "from langchain_openai import ChatOpenAI\n",
    "from langchain.chains.llm import LLMChain\n",
    "\n",
    "llm = ChatOpenAI(\n",
    "    temperature=0.1,\n",
    "    model_name=\"mistral:latest\",\n",
    "    api_key=\"ollama\",\n",
    "    base_url=\"http://localhost:11434/v1\",\n",
    ")\n",
    "llm_chain = LLMChain(llm=llm, prompt=prompt)"
   ]
  },
  {
   "cell_type": "code",
   "execution_count": 12,
   "metadata": {},
   "outputs": [],
   "source": [
    "# Create full chain\n",
    "from langchain.chains.combine_documents.stuff import StuffDocumentsChain\n",
    "\n",
    "stuff_chain = StuffDocumentsChain(\n",
    "    llm_chain=llm_chain, document_variable_name=\"document\"\n",
    ")"
   ]
  },
  {
   "cell_type": "code",
   "execution_count": 13,
   "metadata": {},
   "outputs": [
    {
     "name": "stdout",
     "output_type": "stream",
     "text": [
      " The document discusses the concept of Smart Cities, an evolution of urban planning facilitated by digital technologies. The goal is to enhance sustainability, efficiency, and quality of life in urban environments through the integration of data analytics, IoT devices, and AI. Common urban issues such as traffic congestion, waste management, energy distribution, and public safety are addressed using these technologies.\n",
      "\n",
      "   Key components of Smart City implementation include:\n",
      "   1. Infrastructure and Technology: Developing robust infrastructure to support smart devices and sensors, including efficient transport systems, energy grids, and digital networks for real-time data collection and processing.\n",
      "   2. Data Management: Smart cities rely on data collection and analysis to provide insights for informed decision-making and policy development.\n",
      "   3. Citizen Engagement: Smart City projects prioritize citizen engagement through digital platforms for communication and feedback, fostering a collaborative approach to addressing urban challenges.\n",
      "   4. Sustainability and Environment: Environmental monitoring using IoT sensors helps cities manage resources effectively, reducing pollution, optimizing waste collection, and improving air quality. Renewable energy integration is another focus area in smart city development.\n",
      "   5. Public-Private Partnerships: Collaboration between the public and private sectors is essential for Smart City projects, with private companies providing technology and expertise, and public authorities managing regulations and ensuring initiatives align with urban development goals.\n",
      "\n",
      "   The transition to Smart Cities represents a comprehensive approach to urbanization, combining technical innovation with a commitment to sustainable growth. By embracing digital solutions, cities can create adaptable environments that cater to residents' needs, reduce environmental impact, and foster economic growth. However, successful implementation also requires addressing privacy concerns, ensuring data security, and maintaining equitable access to technology for all residents.\n"
     ]
    }
   ],
   "source": [
    "result = stuff_chain.invoke(docs)\n",
    "print(result[\"output_text\"])"
   ]
  },
  {
   "cell_type": "code",
   "execution_count": 14,
   "metadata": {},
   "outputs": [
    {
     "ename": "NameError",
     "evalue": "name 'fill' is not defined",
     "output_type": "error",
     "traceback": [
      "\u001b[0;31m---------------------------------------------------------------------------\u001b[0m",
      "\u001b[0;31mNameError\u001b[0m                                 Traceback (most recent call last)",
      "Cell \u001b[0;32mIn[14], line 3\u001b[0m\n\u001b[1;32m      1\u001b[0m \u001b[38;5;66;03m# Invoke with limited pages\u001b[39;00m\n\u001b[1;32m      2\u001b[0m result \u001b[38;5;241m=\u001b[39m stuff_chain\u001b[38;5;241m.\u001b[39minvoke(docs[:\u001b[38;5;241m-\u001b[39m\u001b[38;5;241m3\u001b[39m])\n\u001b[0;32m----> 3\u001b[0m \u001b[38;5;28mprint\u001b[39m(\u001b[43mfill\u001b[49m(result[\u001b[38;5;124m\"\u001b[39m\u001b[38;5;124moutput_text\u001b[39m\u001b[38;5;124m\"\u001b[39m]))\n",
      "\u001b[0;31mNameError\u001b[0m: name 'fill' is not defined"
     ]
    }
   ],
   "source": [
    "# Invoke with limited pages\n",
    "result = stuff_chain.invoke(docs[:-3])\n",
    "print(fill(result[\"output_text\"]))"
   ]
  },
  {
   "cell_type": "markdown",
   "metadata": {},
   "source": [
    "## Part 3: Query a document with MapReduce\n",
    "\n",
    "A common way to query a document is to use RAG, which involves splitting a document in chunks, generating embeddings for those chunks, storing these chunks in a database, querying the database based on those embeddings (semantic search), and then returning the most relevant chunks to use to build the answer.\n",
    "\n",
    "Here I take a simpler but more processing-intensive approach, which is to use MapReduce to query the document. The idea is to look at pages one by one, and for each page, to use the model to find the information that is relevant to the question. Then we combine the results to build the answer."
   ]
  },
  {
   "cell_type": "code",
   "execution_count": 8,
   "metadata": {},
   "outputs": [],
   "source": [
    "user_query = \"What is the data used in this analysis?\""
   ]
  },
  {
   "cell_type": "code",
   "execution_count": 10,
   "metadata": {},
   "outputs": [],
   "source": [
    "# Map part: Appplied to each page\n",
    "map_template = \"\"\"The following is a set of documents\n",
    "{docs}\n",
    "Based on this list of documents, please identify the information that is most relevant to the following query:\n",
    "{user_query} \n",
    "If the document is not relevant, please write \"not relevant\".\n",
    "Helpful Answer:\"\"\"\n",
    "map_prompt = PromptTemplate.from_template(map_template)\n",
    "map_prompt = map_prompt.partial(user_query=user_query)\n",
    "map_chain = LLMChain(llm=llm, prompt=map_prompt)"
   ]
  },
  {
   "cell_type": "code",
   "execution_count": 11,
   "metadata": {},
   "outputs": [],
   "source": [
    "# Reduce part: Applied to the list of results\n",
    "reduce_template = \"\"\"The following is set of partial answers to a user query:\n",
    "{docs}\n",
    "Take these and distill it into a final, consolidated answer to the following query:\n",
    "{user_query} \n",
    "Complete Answer:\"\"\"\n",
    "reduce_prompt = PromptTemplate.from_template(reduce_template)\n",
    "reduce_prompt = reduce_prompt.partial(user_query=user_query)"
   ]
  },
  {
   "cell_type": "code",
   "execution_count": 12,
   "metadata": {},
   "outputs": [],
   "source": [
    "# Full chain\n",
    "from langchain.chains import MapReduceDocumentsChain, ReduceDocumentsChain\n",
    "\n",
    "\n",
    "reduce_chain = LLMChain(llm=llm, prompt=reduce_prompt)\n",
    "\n",
    "# Takes a list of documents, combines them into a single string, and passes this to an LLMChain\n",
    "combine_documents_chain = StuffDocumentsChain(\n",
    "    llm_chain=reduce_chain, document_variable_name=\"docs\"\n",
    ")\n",
    "\n",
    "# Combines and iteratively reduces the mapped documents\n",
    "reduce_documents_chain = ReduceDocumentsChain(\n",
    "    # This is final chain that is called.\n",
    "    combine_documents_chain=combine_documents_chain,\n",
    "    # If documents exceed context for `StuffDocumentsChain`\n",
    "    collapse_documents_chain=combine_documents_chain,\n",
    "    # The maximum number of tokens to group documents into.\n",
    "    token_max=4000,\n",
    ")\n",
    "# Combining documents by mapping a chain over them, then combining results\n",
    "map_reduce_chain = MapReduceDocumentsChain(\n",
    "    # Map chain\n",
    "    llm_chain=map_chain,\n",
    "    # Reduce chain\n",
    "    reduce_documents_chain=reduce_documents_chain,\n",
    "    # The variable name in the llm_chain to put the documents in\n",
    "    document_variable_name=\"docs\",\n",
    "    # Return the results of the map steps in the output\n",
    "    return_intermediate_steps=False,\n",
    ")"
   ]
  },
  {
   "cell_type": "code",
   "execution_count": 13,
   "metadata": {},
   "outputs": [
    {
     "name": "stdout",
     "output_type": "stream",
     "text": [
      " The data used in this analysis includes stock prices, trading volume,\n",
      "and order imbalance measures for a sample of U.S. firms that\n",
      "experienced a newswire hack between 2010 and 2014. Specifically, the\n",
      "authors use minute-level trade and quote data from the Trade and Quote\n",
      "(TAQ) database, which is maintained by the New York Stock Exchange.\n",
      "They also use firm-level financial data from Compustat and measures of\n",
      "media coverage from Factiva. The sample includes all U.S. common\n",
      "stocks listed on the NYSE, NASDAQ, or AMEX exchanges during the study\n",
      "period. Not all variables are available for all firms and time\n",
      "periods, resulting in an unbalanced panel. Additionally, the analysis\n",
      "uses information from legal documents of SEC prosecutions, newswire\n",
      "servers, and a set of control variables such as log market\n",
      "capitalization, fraction of shares held by institutional investors,\n",
      "natural logarithm of number of analysts, natural logarithm of newswire\n",
      "news in the quarter leading to the announcement, daily cost of\n",
      "borrowing from Markit, and the inverse of the stock price. The data is\n",
      "used to examine the impact of hackers' trading on volume, spreads, and\n",
      "order flow measures.\n"
     ]
    }
   ],
   "source": [
    "result = map_reduce_chain.invoke(docs[:-3])\n",
    "print(fill(result[\"output_text\"]))"
   ]
  },
  {
   "cell_type": "code",
   "execution_count": null,
   "metadata": {},
   "outputs": [],
   "source": []
  }
 ],
 "metadata": {
  "kernelspec": {
   "display_name": "venv",
   "language": "python",
   "name": "python3"
  },
  "language_info": {
   "codemirror_mode": {
    "name": "ipython",
    "version": 3
   },
   "file_extension": ".py",
   "mimetype": "text/x-python",
   "name": "python",
   "nbconvert_exporter": "python",
   "pygments_lexer": "ipython3",
   "version": "3.12.7"
  }
 },
 "nbformat": 4,
 "nbformat_minor": 2
}
